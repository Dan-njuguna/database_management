{
 "cells": [
  {
   "cell_type": "code",
   "execution_count": 2,
   "metadata": {},
   "outputs": [],
   "source": [
    "import mysql.connector\n",
    "from mysql.connector import Error"
   ]
  },
  {
   "cell_type": "code",
   "execution_count": 5,
   "metadata": {},
   "outputs": [],
   "source": [
    "db_config = {\n",
    "    'host':'localhost',\n",
    "    'user':'root',\n",
    "    'password':'Pyt@2024.1'\n",
    "}"
   ]
  },
  {
   "cell_type": "code",
   "execution_count": 6,
   "metadata": {},
   "outputs": [],
   "source": [
    "connection = mysql.connector.connect(**db_config)"
   ]
  },
  {
   "cell_type": "code",
   "execution_count": 7,
   "metadata": {},
   "outputs": [],
   "source": [
    "def execute_query(query):\n",
    "    cursor = connection.cursor()\n",
    "    cursor.execute(query, multi=True)\n",
    "    connection.commit()\n",
    "    cursor.close()"
   ]
  },
  {
   "cell_type": "code",
   "execution_count": 23,
   "metadata": {},
   "outputs": [],
   "source": [
    "# CREATE DATABASE IF NOT EXISTS edu_instute\n",
    "with open(\"database.sql\", \"w\") as file:\n",
    "    create_db = \"\"\"-- Creating database named edu_institute if not exists\n",
    "\n",
    "CREATE DATABASE IF NOT EXISTS edu_institute;\"\"\"\n",
    "    execute_query(create_db)\n",
    "    file.write(create_db)\n",
    "    file.close()"
   ]
  },
  {
   "cell_type": "code",
   "execution_count": 24,
   "metadata": {},
   "outputs": [],
   "source": [
    "with open(\"database.sql\", \"a\") as file:\n",
    "    create_table_in_db = \"\"\"\n",
    "\n",
    "-- Using the database to create a table named students\n",
    "USE edu_institute;\n",
    "\n",
    "-- Create table students\n",
    "CREATE TABLE IF NOT EXISTS students (\n",
    "\tstudent_id INT PRIMARY KEY,\n",
    "\tname VARCHAR(50),\n",
    "\tage INT,\n",
    "\tgender CHAR(1),\n",
    "\tenrollment_date DATE,\n",
    "\tprogram VARCHAR(50)\n",
    ");\n",
    "    \"\"\"\n",
    "    execute_query(create_table_in_db)\n",
    "    file.write(create_table_in_db)"
   ]
  },
  {
   "cell_type": "code",
   "execution_count": 25,
   "metadata": {},
   "outputs": [],
   "source": [
    "file = open(\"database.sql\", \"a\")\n",
    "insert_data_to_columns = \"\"\"\n",
    "-- Altering the table to add data into the columns\n",
    "INSERT INTO students VALUES\n",
    "\t(1, \"Linda Sumbati\", 25, \"F\", \"2022-03-04\", \"Computer Science\"),\n",
    "    (2, \"Sharon Cherop\", 26, \"F\", \"2022-03-04\", \"Data Science\"),\n",
    "    (3, \"Benedict Njue\", 24, \"M\", \"2022-03-04\", \"Data Science\"),\n",
    "    (4, \"Dabraham Immorah\", 23, \"M\", \"2022-03-04\", \"Software Engineering\"),\n",
    "    (5, \"Dan Njuguna\", 22, \"M\", \"2022-03-04\", \"Cloud Security\");\n",
    "\"\"\"\n",
    "execute_query(insert_data_to_columns)\n",
    "file.write(insert_data_to_columns)\n",
    "file.close()"
   ]
  },
  {
   "cell_type": "code",
   "execution_count": 26,
   "metadata": {},
   "outputs": [],
   "source": [
    "file = open(\"database.sql\", \"a\")\n",
    "query_data = \"\"\"\n",
    "-- a query to select all columns for all students in the \"Data Science\" program.\n",
    "SELECT * FROM students WHERE program = \"Data Science\";\n",
    "\"\"\"\n",
    "execute_query(query_data)\n",
    "file.write(query_data)\n",
    "file.close()"
   ]
  },
  {
   "cell_type": "code",
   "execution_count": 27,
   "metadata": {},
   "outputs": [],
   "source": [
    "file = open(\"database.sql\", \"a\")\n",
    "student_count = \"\"\"\n",
    "-- a query to find the total number of students and display it as Total Students.\n",
    "SELECT COUNT(*) AS \"Total Students\" FROM students;\n",
    "\"\"\"\n",
    "execute_query(student_count)\n",
    "file.write(student_count)\n",
    "file.close()"
   ]
  },
  {
   "cell_type": "code",
   "execution_count": 28,
   "metadata": {},
   "outputs": [],
   "source": [
    "file = open(\"database.sql\", \"a\")\n",
    "today_date = \"\"\"\n",
    "-- Function Usage\n",
    "-- Function to display todays date in a column named Today's Date\n",
    "SELECT CURRENT_DATE() AS \"Today's Date\";\n",
    "\"\"\"\n",
    "execute_query(today_date)\n",
    "file.write(today_date)\n",
    "file.close()"
   ]
  },
  {
   "cell_type": "code",
   "execution_count": 29,
   "metadata": {},
   "outputs": [],
   "source": [
    "file = open(\"database.sql\", \"a\")\n",
    "uppercase_name = \"\"\"\n",
    "--  a query to select the student names and their enrolment dates, but display the name column in uppercase\n",
    "SELECT UPPER(name) AS name, enrollment_date FROM students;\n",
    "\"\"\"\n",
    "execute_query(uppercase_name)\n",
    "file.write(uppercase_name)\n",
    "file.close()"
   ]
  },
  {
   "cell_type": "code",
   "execution_count": 30,
   "metadata": {},
   "outputs": [],
   "source": [
    "file = open(\"database.sql\", \"a\")\n",
    "no_of_students = \"\"\"\n",
    "-- a query to count the number of students in each program and display the results in descending order of count. Name the count column as Number of Students\n",
    "SELECT program, COUNT(*) AS \"Number of Students\" \n",
    "FROM students\n",
    "GROUP BY program\n",
    "ORDER BY COUNT(*) DESC;\n",
    "\"\"\"\n",
    "execute_query(no_of_students)\n",
    "file.write(no_of_students)\n",
    "file.close()"
   ]
  },
  {
   "cell_type": "code",
   "execution_count": 31,
   "metadata": {},
   "outputs": [],
   "source": [
    "file = open(\"database.sql\", \"a\")\n",
    "youngest_student = \"\"\"\n",
    "-- a query to find the youngest student's name and age.\n",
    "SELECT name, age\n",
    "FROM students\n",
    "ORDER BY age ASC\n",
    "LIMIT 1;\n",
    "\"\"\"\n",
    "execute_query(youngest_student)\n",
    "file.write(youngest_student)\n",
    "file.close()"
   ]
  },
  {
   "cell_type": "code",
   "execution_count": null,
   "metadata": {},
   "outputs": [],
   "source": []
  }
 ],
 "metadata": {
  "kernelspec": {
   "display_name": "Python 3",
   "language": "python",
   "name": "python3"
  },
  "language_info": {
   "codemirror_mode": {
    "name": "ipython",
    "version": 3
   },
   "file_extension": ".py",
   "mimetype": "text/x-python",
   "name": "python",
   "nbconvert_exporter": "python",
   "pygments_lexer": "ipython3",
   "version": "3.12.2"
  }
 },
 "nbformat": 4,
 "nbformat_minor": 2
}
